{
 "cells": [
  {
   "cell_type": "code",
   "execution_count": 1,
   "id": "73c54402",
   "metadata": {},
   "outputs": [],
   "source": [
    "from imutils import paths\n",
    "import random\n",
    "import shutil\n",
    "import json\n",
    "import os "
   ]
  },
  {
   "cell_type": "code",
   "execution_count": 2,
   "id": "ffb58f9c",
   "metadata": {},
   "outputs": [],
   "source": [
    "dataset_path = \"data/\"\n",
    "subset_path = \"subset/\"\n",
    "N = 40 # number of randomly selected subjects\n",
    "n = 10 # number of subsets\n",
    "\n",
    "if not os.path.exists(subset_path):\n",
    "    os.makedirs(subset_path)\n",
    "else:\n",
    "    !rm -r \"subset/\"\n",
    "    os.makedirs(subset_path)\n",
    "    \n",
    "labels = [\"backward\", \"forward\", \"right\", \"left\", \"down\", \"up\", \"go\", \"stop\", \"on\", \"off\", \"yes\", \"no\", \n",
    "          \"learn\", \"follow\", \"zero\", \"one\", \"two\", \"three\", \"four\", \"five\", \"six\", \"seven\", \"eight\", \"nine\", \n",
    "          \"bed\", \"bird\", \"cat\", \"dog\", \"happy\", \"house\", \"read\", \"write\", \"tree\", \"visual\", \"wow\"]"
   ]
  },
  {
   "cell_type": "code",
   "execution_count": 3,
   "id": "92d2b999",
   "metadata": {},
   "outputs": [
    {
     "name": "stdout",
     "output_type": "stream",
     "text": [
      "3623\n"
     ]
    }
   ],
   "source": [
    "wavPaths = list(paths.list_files(dataset_path, validExts=\"wav\"))\n",
    "print(len(wavPaths))"
   ]
  },
  {
   "cell_type": "code",
   "execution_count": 4,
   "id": "28e452b9",
   "metadata": {},
   "outputs": [],
   "source": [
    "def accuracy(preds_path, labels):\n",
    "    correct = 0\n",
    "    # groundtruth and predicted \n",
    "    # labels\n",
    "    y_true = []\n",
    "    y_pred = []\n",
    "\n",
    "    # opening a JSON file\n",
    "    f = open(preds_path)\n",
    "\n",
    "    # returns JSON object as \n",
    "    # a dictionary\n",
    "    data = json.load(f)\n",
    "\n",
    "    # iterating through the json list\n",
    "    # and adding true and predicted labels\n",
    "    for t, p in data.items():\n",
    "        t = t.split('/')[-2]\n",
    "        y_true.append(t)\n",
    "        y_pred.append(p)\n",
    "        if t == p:\n",
    "            correct += 1\n",
    "\n",
    "    # closing file\n",
    "    f.close()\n",
    "    \n",
    "    acc = correct / len(y_true)\n",
    "    return acc"
   ]
  },
  {
   "cell_type": "code",
   "execution_count": 5,
   "id": "21651062",
   "metadata": {},
   "outputs": [
    {
     "name": "stdout",
     "output_type": "stream",
     "text": [
      "100%|███████████████████████████████████████████| 44/44 [00:06<00:00,  6.49it/s]\n",
      "Saved preds to outputs/subset/preds.json\n",
      "It: 0, Acc: 0.9014285714285715\n",
      "100%|███████████████████████████████████████████| 44/44 [00:06<00:00,  6.47it/s]\n",
      "Saved preds to outputs/subset/preds.json\n",
      "It: 1, Acc: 0.8914285714285715\n",
      "100%|███████████████████████████████████████████| 44/44 [00:06<00:00,  6.42it/s]\n",
      "Saved preds to outputs/subset/preds.json\n",
      "It: 2, Acc: 0.8935714285714286\n",
      "100%|███████████████████████████████████████████| 44/44 [00:06<00:00,  6.50it/s]\n",
      "Saved preds to outputs/subset/preds.json\n",
      "It: 3, Acc: 0.8978571428571429\n",
      "100%|███████████████████████████████████████████| 44/44 [00:06<00:00,  6.52it/s]\n",
      "Saved preds to outputs/subset/preds.json\n",
      "It: 4, Acc: 0.8978571428571429\n",
      "100%|███████████████████████████████████████████| 44/44 [00:06<00:00,  6.51it/s]\n",
      "Saved preds to outputs/subset/preds.json\n",
      "It: 5, Acc: 0.8864285714285715\n",
      "100%|███████████████████████████████████████████| 44/44 [00:06<00:00,  6.40it/s]\n",
      "Saved preds to outputs/subset/preds.json\n",
      "It: 6, Acc: 0.895\n",
      "100%|███████████████████████████████████████████| 44/44 [00:06<00:00,  6.53it/s]\n",
      "Saved preds to outputs/subset/preds.json\n",
      "It: 7, Acc: 0.8957142857142857\n",
      "100%|███████████████████████████████████████████| 44/44 [00:06<00:00,  6.47it/s]\n",
      "Saved preds to outputs/subset/preds.json\n",
      "It: 8, Acc: 0.9007142857142857\n",
      "100%|███████████████████████████████████████████| 44/44 [00:06<00:00,  6.50it/s]\n",
      "Saved preds to outputs/subset/preds.json\n",
      "It: 9, Acc: 0.8964285714285715\n"
     ]
    }
   ],
   "source": [
    "results = []\n",
    "\n",
    "for i in range(n):\n",
    "    if not os.path.exists(subset_path):\n",
    "        os.makedirs(subset_path)\n",
    "    else:\n",
    "        !rm -r \"subset/\"\n",
    "        os.makedirs(subset_path)\n",
    "    \n",
    "    for label in labels:\n",
    "        source_path = os.path.join(dataset_path, label)\n",
    "        subject_ids = []\n",
    "        tempPaths = list(paths.list_files(source_path, validExts=\"wav\"))\n",
    "\n",
    "        for tempPath in tempPaths:\n",
    "            wav_file = tempPath.split('/')[-1]\n",
    "            subject_id = wav_file.split('.')[0]\n",
    "            subject_ids.append(subject_id)\n",
    "    \n",
    "        random.shuffle(subject_ids)\n",
    "        some_subjects = subject_ids[:N]\n",
    "        \n",
    "        target_path = os.path.join(subset_path, label)\n",
    "        if not os.path.exists(target_path):\n",
    "            os.makedirs(target_path)\n",
    "        \n",
    "        for some_subject in some_subjects:\n",
    "            source_wav = os.path.join(source_path, some_subject+\".wav\")\n",
    "            target_wav = os.path.join(target_path, some_subject+\".wav\")\n",
    "            shutil.copy(source_wav, target_wav)\n",
    "            \n",
    "    !python inference.py --conf configs/kwmlp_ksc_tts.yaml --ckpt runs/kw-mlp-0.2.0-ksc-tts/best.pth --inp subset/ --out outputs/subset/ --lmap label_map.json --device cpu --batch_size 32\n",
    "    acc = accuracy('outputs/subset/preds.json', labels)\n",
    "    print(\"It: {}, Acc: {}\".format(i, acc))\n",
    "    results.append(acc)"
   ]
  },
  {
   "cell_type": "code",
   "execution_count": 6,
   "id": "d87b2c1b",
   "metadata": {},
   "outputs": [
    {
     "data": {
      "text/plain": [
       "0.8956428571428573"
      ]
     },
     "execution_count": 6,
     "metadata": {},
     "output_type": "execute_result"
    }
   ],
   "source": [
    "avg_accuracy = sum(results) / len(results)\n",
    "avg_accuracy"
   ]
  },
  {
   "cell_type": "code",
   "execution_count": 7,
   "id": "2cdafa30",
   "metadata": {},
   "outputs": [
    {
     "name": "stdout",
     "output_type": "stream",
     "text": [
      "['0.9014', '0.8914', '0.8936', '0.8979', '0.8979', '0.8864', '0.8950', '0.8957', '0.9007', '0.8964']\n"
     ]
    }
   ],
   "source": [
    "results_round = ['%.4f' % result for result in results]\n",
    "print(results_round)"
   ]
  },
  {
   "cell_type": "code",
   "execution_count": null,
   "id": "9176c5ba",
   "metadata": {},
   "outputs": [],
   "source": []
  }
 ],
 "metadata": {
  "kernelspec": {
   "display_name": "Python 3 (ipykernel)",
   "language": "python",
   "name": "python3"
  },
  "language_info": {
   "codemirror_mode": {
    "name": "ipython",
    "version": 3
   },
   "file_extension": ".py",
   "mimetype": "text/x-python",
   "name": "python",
   "nbconvert_exporter": "python",
   "pygments_lexer": "ipython3",
   "version": "3.9.7"
  }
 },
 "nbformat": 4,
 "nbformat_minor": 5
}
